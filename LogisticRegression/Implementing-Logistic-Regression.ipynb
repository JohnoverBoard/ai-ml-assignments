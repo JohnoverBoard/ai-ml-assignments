{
  "nbformat": 4,
  "nbformat_minor": 0,
  "metadata": {
    "colab": {
      "name": "Implementing-Logistic-Regression.ipynb",
      "version": "0.3.2",
      "provenance": []
    },
    "kernelspec": {
      "display_name": "Python 2",
      "language": "python",
      "name": "python2"
    }
  },
  "cells": [
    {
      "metadata": {
        "id": "du0JZlWZ8cgJ",
        "colab_type": "text"
      },
      "cell_type": "markdown",
      "source": [
        "# Implementing logistic regression\n",
        "\n",
        "In this assignment you will learn to implement logistic regression and apply it on a toy dataset. Logistic regression is a popular machine learning technique used for binary classification. In a binary classification problem, each input belongs to one of two classes, say 0 or 1, and the goal is to predict the correct class of each input. \n",
        "\n",
        "While logistic regression is a standard machine learning algorithm used for binary classification, it can also be thought of as a minimalistic neural network. Hence, we chose logistic regression for this exercise since it will help you understand some of the basic principles of machine learning and neural networks.\n",
        "\n",
        "#### Instructions\n",
        "-  Do not use any additional libraries other than what is already specified below\n",
        "-  Do not use loops in your code\n",
        "-  Do not edit \"Expected output\" markdown cells\n",
        "-  Use https://ai.mulearn.org/ for asking any questions you may have about this assignment\n"
      ]
    },
    {
      "metadata": {
        "id": "9HPv3Nyk8cgP",
        "colab_type": "text"
      },
      "cell_type": "markdown",
      "source": [
        "### 1. Import Libraries\n",
        "For this assignment we will import the following libraries:"
      ]
    },
    {
      "metadata": {
        "id": "4k1ux_H38cgS",
        "colab_type": "code",
        "colab": {
          "base_uri": "https://localhost:8080/",
          "height": 34
        },
        "outputId": "3990b67e-9a3c-4557-b36a-a5f38214fc8b"
      },
      "cell_type": "code",
      "source": [
        "#Checking out the repository to make it work with colab\n",
        "!git clone https://github.com/JohnoverBoard/ai-ml-assignments.git"
      ],
      "execution_count": 354,
      "outputs": [
        {
          "output_type": "stream",
          "text": [
            "fatal: destination path 'ai-ml-assignments' already exists and is not an empty directory.\n"
          ],
          "name": "stdout"
        }
      ]
    },
    {
      "metadata": {
        "id": "xMEGWwTU8cge",
        "colab_type": "code",
        "colab": {}
      },
      "cell_type": "code",
      "source": [
        "import numpy as np\n",
        "import matplotlib.pyplot as plt\n",
        "\n",
        "import sys\n",
        "sys.path.append('ai-ml-assignments')\n",
        "from utils import utils\n",
        "\n"
      ],
      "execution_count": 0,
      "outputs": []
    },
    {
      "metadata": {
        "id": "QKDRxYKH8cgn",
        "colab_type": "text"
      },
      "cell_type": "markdown",
      "source": [
        "### 2. Sigmoid\n",
        "Let us start this assignment by implementing the sigmoid function: sigmoid(s) = $\\frac{1}{1+e^{-z}}$"
      ]
    },
    {
      "metadata": {
        "id": "OIwsqeEV8cgq",
        "colab_type": "code",
        "colab": {}
      },
      "cell_type": "code",
      "source": [
        "def sigmoid(z):\n",
        "    \n",
        "    # Implement the sigmoid function\n",
        "    \n",
        "    # Arguments:\n",
        "    #    z: A set of values whose sigmoid needs to be computed and stored in the variable s\n",
        "    #\n",
        "    # Return value: \n",
        "    #    s: sigmoid of values in z \n",
        "    \n",
        "    # Implement the sigmoid function: s = 1/(1+e^(-z))\n",
        "    \n",
        "    s = 1/(1+np.exp(-z))\n",
        "    return s"
      ],
      "execution_count": 0,
      "outputs": []
    },
    {
      "metadata": {
        "id": "Pl744qQ28cgx",
        "colab_type": "text"
      },
      "cell_type": "markdown",
      "source": [
        "#### Testing\n",
        "Let us test if the sigmoid function is implemented correctly\n",
        "\n",
        "Check that for input values 10,  -5,   0,   5,  and 10 you get the expected output as given in the table below\n"
      ]
    },
    {
      "metadata": {
        "id": "PxeoJBJm8cg0",
        "colab_type": "code",
        "colab": {
          "base_uri": "https://localhost:8080/",
          "height": 69
        },
        "outputId": "54cbff5a-5696-4530-c7e0-87f1e765491e"
      },
      "cell_type": "code",
      "source": [
        "z = np.arange(-10,11,5)\n",
        "sig = sigmoid(z)\n",
        "print \"Input: \",z\n",
        "print \"Expected output: \",sig"
      ],
      "execution_count": 357,
      "outputs": [
        {
          "output_type": "stream",
          "text": [
            "Input:  [-10  -5   0   5  10]\n",
            "Expected output:  [4.53978687e-05 6.69285092e-03 5.00000000e-01 9.93307149e-01\n",
            " 9.99954602e-01]\n"
          ],
          "name": "stdout"
        }
      ]
    },
    {
      "metadata": {
        "id": "kJihRMtP8cg-",
        "colab_type": "text"
      },
      "cell_type": "markdown",
      "source": [
        "<table border=\"1\" class=\"dataframe\">  <thead>    <tr style=\"text-align: right;\">      <th>Input</th>      <th>Expected output</th>    </tr>  </thead>  <tbody>    <tr>      <td>-10.0</td>      <td>0.000045</td>    </tr>    <tr>      <td>-5.0</td>      <td>0.006693</td>    </tr>    <tr>      <td>0.0</td>      <td>0.500000</td>    </tr>    <tr>      <td>5.0</td>      <td>0.993307</td>    </tr>    <tr>      <td>10.0</td>      <td>0.999955</td>    </tr>  </tbody></table> "
      ]
    },
    {
      "metadata": {
        "id": "IWVXE3Fu8chB",
        "colab_type": "text"
      },
      "cell_type": "markdown",
      "source": [
        "**Let us also visualize the sigmoid function**\n",
        "\n",
        "<img src=\"https://github.com/JohnoverBoard/ai-ml-assignments/blob/master/LogisticRegression/sigmoid.jpg?raw=1\" align=\"left\" alt=\"Expected plot of sigmoid function\" title=\"Expected plot of sigmoid function\" />\n",
        "<p style=\"clear:left\">\n",
        "The sigmoid function you plot should look like the above figure.\n",
        "Run the cell below to visualize the sigmoid function you have implemented.\n",
        "</p>"
      ]
    },
    {
      "metadata": {
        "id": "evsJGsro8chE",
        "colab_type": "code",
        "colab": {
          "base_uri": "https://localhost:8080/",
          "height": 347
        },
        "outputId": "7f591e10-8f45-484f-a383-95f5f102dc63"
      },
      "cell_type": "code",
      "source": [
        "z = np.arange(-10., 11., 1)\n",
        "sig = sigmoid(z)\n",
        "plt.plot(z,sig)\n",
        "plt.plot(z,sig,'bo')\n",
        "plt.show()"
      ],
      "execution_count": 358,
      "outputs": [
        {
          "output_type": "display_data",
          "data": {
            "image/png": "[encoded data removed]",
            "text/plain": [
              "<Figure size 576x396 with 1 Axes>"
            ]
          },
          "metadata": {
            "tags": []
          }
        }
      ]
    },
    {
      "metadata": {
        "id": "lDzxa7iN8chS",
        "colab_type": "text"
      },
      "cell_type": "markdown",
      "source": [
        "### 3. Data Representation and Parameters\n",
        "Assuming there are $m$ training samples, the pair $(x^{(i)}, \\hat{y}^{(i)})$ denote the $i^{th}$ training sample. Each training sample consists of $n$ features denoted by $x^{(i)}$ and the correponding class label $\\hat{y}^{(i)}$. For each training sample, the features $x^{(i)}$ can be thought of as an $n\\times1$ column vector. When we use $n$ features for representing an input, the number of parameters in logistic regression becomes $n+1$ where the first $n$ parameters are the weights $w$ and the last parameter is the bias term $b$. The optimal values for these parameters are determined during the training phase which consists of forward propagation and back propagation.\n",
        "\n",
        "For vectorized operations, we arrange the column vectors corresponding to all the features of the training samples in the form of a $n \\times m$ matrix $X$, the ground truth class labels as a $1 \\times m$ row vector $\\hat{y}$, and the weight parameters $w$ as a $n \\times 1$ column vector. Here is an example of three training samples each containing two features with class labels 0, 1, 0 respectively.\n",
        "$\n",
        "\\begin{align*}\n",
        "    x^{(1)} &= \\begin{bmatrix}\n",
        "           1 \\\\\n",
        "           2 \\\\\n",
        "         \\end{bmatrix};\n",
        "         &\n",
        "    x^{(2)} &= \\begin{bmatrix}\n",
        "           3 \\\\\n",
        "           4 \\\\\n",
        "         \\end{bmatrix};\n",
        "         &\n",
        "     x^{(3)} &= \\begin{bmatrix}\n",
        "       5 \\\\\n",
        "       6 \\\\\n",
        "     \\end{bmatrix}.\n",
        "     &\n",
        "     \\textrm{Then,}\\;\n",
        "     X &= \\begin{bmatrix}\n",
        "           1\\;3\\;5 \\\\\n",
        "           2\\;4\\;6\\\\\n",
        "         \\end{bmatrix},\n",
        "     &\n",
        "     \\hat y &= \\begin{bmatrix}\n",
        "           0\\;1\\;0\n",
        "         \\end{bmatrix}.\n",
        "\\end{align*}\n",
        "$\n",
        "\n",
        "The parameters to be estimated are the weights\n",
        "$\n",
        "\\begin{align*}\n",
        "     w &= \\begin{bmatrix}\n",
        "           w_1\\\\\n",
        "           w_2\\\\\n",
        "         \\end{bmatrix}, \n",
        "\\end{align*}\n",
        "$\n",
        "and the bias $b$.\n",
        "\n",
        "\n",
        " \n",
        "Use the cell below to create the parameters $w$ and $b$ and initialize them with zeros.\n"
      ]
    },
    {
      "metadata": {
        "id": "tAIb8fJk8chV",
        "colab_type": "code",
        "colab": {}
      },
      "cell_type": "code",
      "source": [
        "def create_params(n):\n",
        "    # Create the parameters w and b and initialise them with zeros\n",
        "    \n",
        "    # Arguments:\n",
        "    #    n: number of weights\n",
        "    #\n",
        "    # Return values:\n",
        "    #    w: the weights created  \n",
        "    #    b: bias term\n",
        "    \n",
        "    # Create a numpy array w of shape (n,1) which are initialized to zeros \n",
        "    w = np.array(np.zeros((n,1)))\n",
        "    \n",
        "    # Initialise bias term b to zero\n",
        "    b = 0\n",
        "    \n",
        "    return w,b"
      ],
      "execution_count": 0,
      "outputs": []
    },
    {
      "metadata": {
        "id": "qgmbI_7B8chg",
        "colab_type": "text"
      },
      "cell_type": "markdown",
      "source": [
        "#### Testing \n",
        "Let us verify if create_params is creating the parameters correctly."
      ]
    },
    {
      "metadata": {
        "id": "jlAwAEiv8chn",
        "colab_type": "code",
        "colab": {
          "base_uri": "https://localhost:8080/",
          "height": 69
        },
        "outputId": "2b652cb2-84cd-4fd9-f121-e7aaf16919e2"
      },
      "cell_type": "code",
      "source": [
        "w,b = create_params(2)\n",
        "\n",
        "print w\n",
        "print b"
      ],
      "execution_count": 360,
      "outputs": [
        {
          "output_type": "stream",
          "text": [
            "[[0.]\n",
            " [0.]]\n",
            "0\n"
          ],
          "name": "stdout"
        }
      ]
    },
    {
      "metadata": {
        "id": "IrDEpvrs8chu",
        "colab_type": "text"
      },
      "cell_type": "markdown",
      "source": [
        "<table border=\"1\" class=\"dataframe\"> <thead>    <tr style=\"text-align: right;\">      <th>Expected output</th>    </tr>  </thead><tbody> <tr style=\"text-align: right;\"><td>  [ [0. ] <br/>&nbsp; [0. ] ] <br/> 0.0   </td></tr>  </tbody></table>"
      ]
    },
    {
      "metadata": {
        "id": "NWHRRneK8chw",
        "colab_type": "text"
      },
      "cell_type": "markdown",
      "source": [
        "### 4. Forward Propagation\n",
        "  \n",
        "To train our simple neural network i.e., to estimate the parameters, we need to do forward and backward propagation. During forward propagation, you determine using a loss function how good the current value of the parameters are. The loss function for logistic regression (our simple neural network) using $m$ training samples is:\n",
        "\n",
        "$L = -\\frac{1}{m}\\sum_{i=1}^{m}\\hat y^{(i)}\\log(a^{(i)})+(1-\\hat y^{(i)})\\log(1-a^{(i)})$\n",
        "\n",
        "where $a^{(i)} = sigmoid( \\sum_{j=1}^{n} w_jx^{(i)}_j + b) $ is the activation for the i-th training sample.\n",
        "\n",
        "You have to implement the forward propagation and return the value of the activation and loss using vectorized implementations (no loops)."
      ]
    },
    {
      "metadata": {
        "id": "BxkUrXbI8chz",
        "colab_type": "code",
        "colab": {}
      },
      "cell_type": "code",
      "source": [
        "def forward_propagate(X,yhat,w,b):\n",
        "    # Implement forward propagation\n",
        "    \n",
        "    # Arguments:\n",
        "    #    X    : n features of m training samples represented as an nxm matrix\n",
        "    #    yhat : the groundtruth values for the m training samples represented as an 1xm matrix\n",
        "    #    w    : the n weight parameters\n",
        "    #    b    : the bias term b\n",
        "    #\n",
        "    # Return values:\n",
        "    #    a    : the activation of all the training samples calculated according to the formula above\n",
        "    #    loss : the loss calculated according to the formula above\n",
        "    \n",
        "    \n",
        "    # Calculate the activation using sigmoid function based on the formula above. You need to store \n",
        "    # the activation for all the training elements in an appropriate matrix.\n",
        "    t = np.dot(np.transpose(w), X)\n",
        "    a = sigmoid(t+b)\n",
        "    \n",
        "    # Calculate the loss using the equation for L above\n",
        "    s = np.sum(yhat * (np.log(a)) + (1-yhat) * (np.log(1-a)))\n",
        "    \n",
        "    loss = (-s/len(X[1,:]))\n",
        "    \n",
        "    return a,loss"
      ],
      "execution_count": 0,
      "outputs": []
    },
    {
      "metadata": {
        "id": "B9Ll6QoP8ch4",
        "colab_type": "text"
      },
      "cell_type": "markdown",
      "source": [
        "#### Testing \n",
        "To test forward and backward propagation, let us use the values below for $w, b, X,$ and $\\hat y$. Check that the activation and loss returned by the forward_propagate function matches the expected values."
      ]
    },
    {
      "metadata": {
        "id": "4Sdinpq68ch6",
        "colab_type": "code",
        "colab": {
          "base_uri": "https://localhost:8080/",
          "height": 52
        },
        "outputId": "a6b1c4a6-4074-4bc1-93fe-8c84bf497853"
      },
      "cell_type": "code",
      "source": [
        "w = np.array([[0], [1]])\n",
        "b = 2\n",
        "X = np.array([[1, 3, 5],[2, 4, 6]]) \n",
        "yhat = np.array([[1, 0, 1]])\n",
        "a,loss = forward_propagate(X,yhat,w,b)\n",
        "print a\n",
        "print loss"
      ],
      "execution_count": 362,
      "outputs": [
        {
          "output_type": "stream",
          "text": [
            "[[0.98201379 0.99752738 0.99966465]]\n",
            "2.006987006476161\n"
          ],
          "name": "stdout"
        }
      ]
    },
    {
      "metadata": {
        "id": "6igT7l4b8ciF",
        "colab_type": "text"
      },
      "cell_type": "markdown",
      "source": [
        "<table border=\"1\" class=\"dataframe\"> <thead>    <tr style=\"text-align: right;\">      <th>Expected output</th>    </tr>  </thead><tbody> <tr style=\"text-align: right;\"><td>  [[0.98201379 0.99752738 0.99966465]] <br/>2.006987006476161</td></tr>  </tbody></table>"
      ]
    },
    {
      "metadata": {
        "id": "AWkRElmM8ciJ",
        "colab_type": "text"
      },
      "cell_type": "markdown",
      "source": [
        "### 5. Backward Propagation\n",
        "\n",
        "Now let us implement the backward propagation where you compute the derivatives of the loss function with respect to the parameters $w$ and $b$. The derivatives are given by:\n",
        "\n",
        "\\begin{align}\n",
        "\\frac{\\partial L}{\\partial w_j} &= \\frac{1}{m} \\sum_{i=1}^{m} x^{(i)}_j \\cdot (a^{(i)}-\\hat y^{(i)})\\\\\n",
        "\\frac{\\partial L}{\\partial b} &= \\frac{1}{m} \\sum_{i=1}^m (a^{(i)}-y^{(i)})\n",
        "\\end{align}\n",
        "You should write a vectorized implementation without using any loops."
      ]
    },
    {
      "metadata": {
        "id": "F-129_5e8ciK",
        "colab_type": "code",
        "colab": {}
      },
      "cell_type": "code",
      "source": [
        "def backward_propagate(X,yhat,a):\n",
        "    # Implement backward propagation using the equations above without using any loops\n",
        "    \n",
        "    # Arguments:\n",
        "    #    X    : n features of m training samples represented as an nxm matrix\n",
        "    #    yhat : the groundtruth values for the m training samples represented as an 1xm matrix\n",
        "    #    a    : the activation of the training samples\n",
        "    #\n",
        "    # Return values:\n",
        "    #    dw   : derivative of loss with respect to w\n",
        "    #    db   : derivative of loss with respect to b\n",
        "    \n",
        "    # Determine the number of trainining samples m from the shape of X\n",
        "    m = X.shape[1]\n",
        "    # Calculate dw = dL/dw using the equation above without using any loops\n",
        "    dw = (np.sum(X * (a - yhat), axis=1)/m).reshape(X.shape[0],1)\n",
        "    # Calculate db = dL/db using the equation above without using any loops\n",
        "    db = np.sum(a-yhat)/m\n",
        "    \n",
        "    #return derivative of loss with respect to w and b, i.e., dw and db\n",
        "    return dw,db"
      ],
      "execution_count": 0,
      "outputs": []
    },
    {
      "metadata": {
        "id": "CErqLjv48ciQ",
        "colab_type": "text"
      },
      "cell_type": "markdown",
      "source": [
        "#### Testing \n",
        "Check that the results match the expected output."
      ]
    },
    {
      "metadata": {
        "id": "jqunw-ZE8ciS",
        "colab_type": "code",
        "colab": {
          "base_uri": "https://localhost:8080/",
          "height": 69
        },
        "outputId": "176a1b7d-3fc1-4211-e905-a1d40831475b"
      },
      "cell_type": "code",
      "source": [
        "w = np.array([[0], [1]])\n",
        "b = 2\n",
        "X = np.array([[1, 3, 5],[2, 4, 6]]) \n",
        "yhat = np.array([[1, 0, 1]])\n",
        "dw,db = backward_propagate(X,yhat,a)\n",
        "print dw\n",
        "print db"
      ],
      "execution_count": 364,
      "outputs": [
        {
          "output_type": "stream",
          "text": [
            "[[0.99097306]\n",
            " [1.317375  ]]\n",
            "0.3264019389169358\n"
          ],
          "name": "stdout"
        }
      ]
    },
    {
      "metadata": {
        "id": "osm5dLjV8cii",
        "colab_type": "text"
      },
      "cell_type": "markdown",
      "source": [
        "<table border=\"1\" class=\"dataframe\"> <thead>    <tr style=\"text-align: left;\">      <th>Expected output</th>    </tr>  </thead><tbody> <tr style=\"text-align: left;\"><td>  [[0.99097306]<br/>[1.317375  ]]<br/>0.3264019389169358</td></tr>  </tbody></table>"
      ]
    },
    {
      "metadata": {
        "id": "3XS3dgbx8cin",
        "colab_type": "text"
      },
      "cell_type": "markdown",
      "source": [
        "### 6. Finding the optimal value for the parameters\n",
        "\n",
        "Using the forward and backward propagation that was implemented above, let us now write the function that will do gradient descent and determine the optimal value of the parameters that minimizes the loss. The gradient descent rule is:\n",
        "$ \\theta = \\theta - \\alpha \\cdot \\frac{\\partial L}{\\partial \\theta} $\n",
        "where $\\theta$ is a parameter that needs to be updated, $\\frac{\\partial L}{\\partial \\theta}$ is the gradient of  loss function $L$ with respect to $\\theta$ and $\\alpha$ is the learning rate.\n",
        "\n",
        "Let us call this function fit. It takes as arguments the input $X$, the groundtruth labels $\\hat y$, the number of iterations to run, and the learning rate. "
      ]
    },
    {
      "metadata": {
        "id": "4XaW1wJ78cis",
        "colab_type": "code",
        "colab": {}
      },
      "cell_type": "code",
      "source": [
        "def fit(X,yhat,numiter=5000,lr=0.05,display_loss = False):\n",
        "    # Implement the fit fuction that determines optimal values for the parameters w and b using gradient descent.\n",
        "    \n",
        "    # Arguments:\n",
        "    #    X            : n features of m training samples represented as an nxm matrix\n",
        "    #    yhat         : the groundtruth values for the m training samples represented as an 1xm matrix\n",
        "    #    numiter      : number of iterations for running the gradient descent \n",
        "    #    lr           : learning rate for the gradient descent\n",
        "    #    display_loss : whether to display loss\n",
        "    #\n",
        "    # Return values:\n",
        "    #    w            : weights determined by the gradient descent\n",
        "    #    b            : bias determined by the gradient descent\n",
        "    \n",
        "    # Determine the number of features from the shape of X\n",
        "    n = X.shape[0]\n",
        "    \n",
        "    # Create the weights and bias\n",
        "    w,b = create_params(n)\n",
        "    \n",
        "    # Iterate for numiter steps\n",
        "    for i in range(numiter):\n",
        "        \n",
        "        # Calculate activation and loss using forward propagation\n",
        "        a,loss = forward_propagate(X,yhat,w,b)\n",
        "        \n",
        "        # Calculate dw and db using backward propagation\n",
        "        dw,db = backward_propagate(X,yhat,a)\n",
        "        \n",
        "        # Calculate the updated parameters by moving a small step (lr) in the opposite direction of the gradient\n",
        "        w = w - dw * lr\n",
        "        b = b - db * lr\n",
        "        \n",
        "        if display_loss and i % 100 == 0:\n",
        "            print loss\n",
        "            \n",
        "    # Return the parameters w and b\n",
        "    return w,b"
      ],
      "execution_count": 0,
      "outputs": []
    },
    {
      "metadata": {
        "id": "IVx5uMNU8ci1",
        "colab_type": "text"
      },
      "cell_type": "markdown",
      "source": [
        "#### Testing \n",
        "Check that the results match the expected output."
      ]
    },
    {
      "metadata": {
        "id": "y6i5XSr08ci8",
        "colab_type": "code",
        "colab": {
          "base_uri": "https://localhost:8080/",
          "height": 156
        },
        "outputId": "5740a16b-1c6e-4f7a-80d2-5681308f43ec"
      },
      "cell_type": "code",
      "source": [
        "w,b = fit(X,yhat,500,0.005,True)\n",
        "print w\n",
        "print b"
      ],
      "execution_count": 366,
      "outputs": [
        {
          "output_type": "stream",
          "text": [
            "0.6931471805599453\n",
            "0.6450579810362779\n",
            "0.6445228298368414\n",
            "0.6440564031501352\n",
            "0.6436175793664201\n",
            "[[0.02845113]\n",
            " [0.10866157]]\n",
            "0.08021044325121016\n"
          ],
          "name": "stdout"
        }
      ]
    },
    {
      "metadata": {
        "id": "klafCXaK8cjG",
        "colab_type": "text"
      },
      "cell_type": "markdown",
      "source": [
        "<table border=\"1\" class=\"dataframe\"> <thead>    <tr style=\"text-align: left;\">      <th>Expected output</th>    </tr>  </thead><tbody> <tr style=\"text-align: left;\"><td>  \n",
        "\n",
        "0.6931471805599453<br/>\n",
        "0.6450579810362779<br/>\n",
        "0.6445228298368414<br/>\n",
        "0.6440564031501352<br/>\n",
        "0.6436175793664201<br/>\n",
        "    [[0.02845113]<br/>\n",
        " [0.10866157]] <br/>\n",
        "    0.08021044325121013\n",
        "    </td></tr>  </tbody></table>"
      ]
    },
    {
      "metadata": {
        "id": "fj9NmmOY8cjK",
        "colab_type": "text"
      },
      "cell_type": "markdown",
      "source": [
        "### 7. Inference using the learned parameters\n",
        "Finally, let us write a function that will make predictions for a new input."
      ]
    },
    {
      "metadata": {
        "id": "pbPLN4NQ8cjO",
        "colab_type": "code",
        "colab": {}
      },
      "cell_type": "code",
      "source": [
        "def predict(X,w,b):\n",
        "    # Implement the function to predict the output for a new input using the learned parameters.\n",
        "    \n",
        "    # Arguments:\n",
        "    #    X    : n features of m training samples represented as an nxm matrix\n",
        "    #    w    : weights determined by the training\n",
        "    #    b    : bias determined by the training\n",
        "    #\n",
        "    # Return values:\n",
        "    #    pred : prediction for each test sample\n",
        "    \n",
        "    \n",
        "    # Determine the activation for each input test sample\n",
        "    t = np.dot(np.transpose(w), X)\n",
        "    act = sigmoid(t+b)\n",
        "    \n",
        "    # Since we are using a binary classifer, the output has to be either a 0 or a 1, so you need\n",
        "    # to convert the activation to a 0 or a 1.\n",
        "    pred = np.where(act<=0.5, 0, 1)\n",
        "    \n",
        "    return pred"
      ],
      "execution_count": 0,
      "outputs": []
    },
    {
      "metadata": {
        "id": "1ezbM-el8cjV",
        "colab_type": "text"
      },
      "cell_type": "markdown",
      "source": [
        "#### Testing \n",
        "Check that the results match the expected output."
      ]
    },
    {
      "metadata": {
        "id": "x927FRTT8cja",
        "colab_type": "code",
        "colab": {
          "base_uri": "https://localhost:8080/",
          "height": 34
        },
        "outputId": "dddfabf8-78b1-4f81-fb7f-44bf32fcc6b5"
      },
      "cell_type": "code",
      "source": [
        "w = np.array([[0], [1]])\n",
        "b = 2\n",
        "X = np.array([[1, 3, 5],[2, 4, 6]])\n",
        "pred = predict(X,w,b)\n",
        "print pred"
      ],
      "execution_count": 368,
      "outputs": [
        {
          "output_type": "stream",
          "text": [
            "[[1 1 1]]\n"
          ],
          "name": "stdout"
        }
      ]
    },
    {
      "metadata": {
        "id": "m7ku_E7X8cjj",
        "colab_type": "text"
      },
      "cell_type": "markdown",
      "source": [
        "<table border=\"1\" class=\"dataframe\"> <thead>    <tr style=\"text-align: left;\">      <th>Expected output</th>    </tr>  </thead>\n",
        "    <tbody>\n",
        "        <tr style=\"text-align: left;\">\n",
        "            <td>\n",
        "                [[1. 1. 1.]]<br/>\n",
        "            </td>\n",
        "        </tr>\n",
        "    </tbody>\n",
        "</table>"
      ]
    },
    {
      "metadata": {
        "id": "ARz22g5X8cjl",
        "colab_type": "text"
      },
      "cell_type": "markdown",
      "source": [
        "### 8. Putting it all together\n",
        "\n",
        "Now let us put it all together to classify a simple dataset. Let us first create a simple dataset, split it into training and testing sets and visualise it. For this, we will use the code from http://cs231n.github.io/neural-networks-case-study/"
      ]
    },
    {
      "metadata": {
        "id": "Fpwk_HjN8cjm",
        "colab_type": "code",
        "colab": {
          "base_uri": "https://localhost:8080/",
          "height": 707
        },
        "outputId": "ec0b2cf6-9a7c-4b16-d076-ee695be880a5"
      },
      "cell_type": "code",
      "source": [
        "\n",
        "X_train,yhat_train,X_test,yhat_test = utils.create_simple_dataset()"
      ],
      "execution_count": 369,
      "outputs": [
        {
          "output_type": "display_data",
          "data": {
            "image/png": "[encoded data removed]",
            "text/plain": [
              "<Figure size 576x396 with 1 Axes>"
            ]
          },
          "metadata": {
            "tags": []
          }
        },
        {
          "output_type": "display_data",
          "data": {
            "image/png": "[encoded data removed]",
            "text/plain": [
              "<Figure size 576x396 with 1 Axes>"
            ]
          },
          "metadata": {
            "tags": []
          }
        }
      ]
    },
    {
      "metadata": {
        "id": "uVK0BzII8cj0",
        "colab_type": "text"
      },
      "cell_type": "markdown",
      "source": [
        "Using the training set, let us estimate the parameters and use it for prediction."
      ]
    },
    {
      "metadata": {
        "id": "anNoF2w-8cj3",
        "colab_type": "code",
        "colab": {
          "base_uri": "https://localhost:8080/",
          "height": 34
        },
        "outputId": "30a80af6-a6f2-4b1d-eeb7-9266f95ca047"
      },
      "cell_type": "code",
      "source": [
        "\n",
        "w,b = fit(X_train,yhat_train,5000,0.05)\n",
        "\n",
        "res = predict(X_test,w,b)\n",
        "\n",
        "print \"Accuracy of prediction: \" + str(np.sum(res == yhat_test)/float(res.shape[1]))"
      ],
      "execution_count": 370,
      "outputs": [
        {
          "output_type": "stream",
          "text": [
            "Accuracy of prediction: 0.675\n"
          ],
          "name": "stdout"
        }
      ]
    },
    {
      "metadata": {
        "id": "2j12gisK8cj7",
        "colab_type": "text"
      },
      "cell_type": "markdown",
      "source": [
        "Let us now visualize the classifier"
      ]
    },
    {
      "metadata": {
        "id": "3gYDGuog8cj-",
        "colab_type": "code",
        "colab": {
          "base_uri": "https://localhost:8080/",
          "height": 362
        },
        "outputId": "e2a1cb65-e1b4-44e8-a6f3-3ff345c9770b"
      },
      "cell_type": "code",
      "source": [
        "utils.vis_classifier(X_test,yhat_test,w,b,predict)"
      ],
      "execution_count": 371,
      "outputs": [
        {
          "output_type": "display_data",
          "data": {
            "image/png": "[encoded data removed]",
            "text/plain": [
              "<Figure size 576x396 with 1 Axes>"
            ]
          },
          "metadata": {
            "tags": []
          }
        }
      ]
    },
    {
      "metadata": {
        "id": "MwfW32Nh8ckG",
        "colab_type": "text"
      },
      "cell_type": "markdown",
      "source": [
        "### 9. Some questions for discussion\n",
        "You can ask any question you may have about this assignment in the discussion forum https://ai.mulearn.org/. Here are a couple of questions to get you started:\n",
        "\n",
        "1. https://ai.mulearn.org/t/what-is-the-intuitive-meaning-of-sigmoid-function-and-linear-decision-boundary-in-logistic-regression/70\n",
        "\n",
        "1. https://ai.mulearn.org/t/why-should-minimizing-the-loss-function-of-logistic-regression-result-in-high-accuracy-predictions/71\n",
        "\n",
        "    "
      ]
    },
    {
      "metadata": {
        "id": "Sw55DAR98ckI",
        "colab_type": "code",
        "colab": {}
      },
      "cell_type": "code",
      "source": [
        ""
      ],
      "execution_count": 0,
      "outputs": []
    }
  ]
}